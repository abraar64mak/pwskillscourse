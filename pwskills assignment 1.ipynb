{
 "cells": [
  {
   "cell_type": "markdown",
   "metadata": {},
   "source": [
    "# Writing Your Python Code"
   ]
  },
  {
   "cell_type": "markdown",
   "metadata": {},
   "source": [
    "**Say \"Hello\" to the world in Python**"
   ]
  },
  {
   "cell_type": "markdown",
   "metadata": {},
   "source": [
    "`[Tip]: To execute the Python code in the code cell below, click on the cell to select it and press Shift + Enter.`"
   ]
  },
  {
   "cell_type": "markdown",
   "metadata": {},
   "source": [
    "- After executing the cell above, you should see that Python prints `Hello, Neurons` Congratulations on running your Python code!"
   ]
  },
  {
   "cell_type": "code",
   "execution_count": 4,
   "metadata": {},
   "outputs": [],
   "source": [
    "#Question 1\n",
    "a=\"pwskills\"\n",
    "b=[2,3,4,\"pwskills\",26.34,True]\n",
    "c=99.9\n",
    "d=(1,2,3,4)\n"
   ]
  },
  {
   "cell_type": "markdown",
   "metadata": {},
   "source": [
    "#question 2\n",
    "1)string\n",
    "2)string\n",
    "3)list\n",
    "4)int"
   ]
  },
  {
   "cell_type": "markdown",
   "metadata": {},
   "source": [
    "#question 3\n",
    "1)division\n",
    "2)modulo\n",
    "3)floor division\n",
    "4)exponential"
   ]
  },
  {
   "cell_type": "code",
   "execution_count": 2,
   "metadata": {},
   "outputs": [
    {
     "name": "stdout",
     "output_type": "stream",
     "text": [
      "1\n",
      "<class 'int'>\n",
      "2\n",
      "<class 'int'>\n",
      "3\n",
      "<class 'int'>\n",
      "4\n",
      "<class 'int'>\n",
      "5\n",
      "<class 'int'>\n",
      "pwskills\n",
      "<class 'str'>\n",
      "67.9\n",
      "<class 'float'>\n",
      "True\n",
      "<class 'bool'>\n",
      "6\n",
      "<class 'int'>\n",
      "7\n",
      "<class 'int'>\n"
     ]
    }
   ],
   "source": [
    "#question 4\n",
    "l=[1,2,3,4,5,\"pwskills\",67.9,True,6,7]\n",
    "for i in l:\n",
    "    print(i)\n",
    "    print(type(i))"
   ]
  },
  {
   "cell_type": "code",
   "execution_count": 1,
   "metadata": {},
   "outputs": [
    {
     "name": "stdin",
     "output_type": "stream",
     "text": [
      " 32\n",
      " 8\n"
     ]
    },
    {
     "name": "stdout",
     "output_type": "stream",
     "text": [
      "a and b are divisible by 4.0 times\n"
     ]
    }
   ],
   "source": [
    "#question 5\n",
    "a=int(input())\n",
    "b=int(input())\n",
    "while a%b==0:\n",
    "    print(\"a and b are divisible by\",a/b,\"times\")\n",
    "    break\n",
    "else:\n",
    "    print(\"not divisible\")"
   ]
  },
  {
   "cell_type": "code",
   "execution_count": 10,
   "metadata": {},
   "outputs": [
    {
     "name": "stdout",
     "output_type": "stream",
     "text": [
      "1 is not divisible\n",
      "2 is not divisible\n",
      "3  is divisible\n",
      "4 is not divisible\n",
      "5 is not divisible\n",
      "6  is divisible\n",
      "7 is not divisible\n",
      "8 is not divisible\n",
      "9  is divisible\n",
      "10 is not divisible\n",
      "11 is not divisible\n",
      "12  is divisible\n",
      "13 is not divisible\n",
      "14 is not divisible\n",
      "15  is divisible\n",
      "16 is not divisible\n",
      "17 is not divisible\n",
      "18  is divisible\n",
      "19 is not divisible\n",
      "20 is not divisible\n",
      "21  is divisible\n",
      "22 is not divisible\n",
      "23 is not divisible\n",
      "24  is divisible\n",
      "25 is not divisible\n"
     ]
    }
   ],
   "source": [
    "#question 6\n",
    "l=[1,2,3,4,5,6,7,8,9,10,11,12,13,14,15,16,17,18,19,20,21,22,23,24,25]\n",
    "for i in l:\n",
    "    if i%3==0:\n",
    "        print(i,\" is divisible\")\n",
    "    else:\n",
    "        print(i,\"is not divisible\")"
   ]
  },
  {
   "cell_type": "markdown",
   "metadata": {},
   "source": [
    "#question no 7\n",
    "Mutable refers to the objects in which elements can be changed and in  immutable object elements cannot be changable\n",
    "\n",
    " A very good example for Mutable is List\n",
    " A very good example for Immutable is Tuple"
   ]
  },
  {
   "cell_type": "code",
   "execution_count": 11,
   "metadata": {},
   "outputs": [],
   "source": [
    "l=[1,2,3,4,5]"
   ]
  },
  {
   "cell_type": "code",
   "execution_count": 14,
   "metadata": {},
   "outputs": [
    {
     "name": "stdout",
     "output_type": "stream",
     "text": [
      "[1, 9, 3, 4, 5]\n"
     ]
    }
   ],
   "source": [
    "#Mutable\n",
    "l[1]=9\n",
    "print(l)\n",
    "#the 1th index is changed to 9"
   ]
  },
  {
   "cell_type": "code",
   "execution_count": 15,
   "metadata": {},
   "outputs": [],
   "source": [
    "#immutable\n",
    "T=(1,2,3)"
   ]
  },
  {
   "cell_type": "code",
   "execution_count": 16,
   "metadata": {},
   "outputs": [
    {
     "ename": "SyntaxError",
     "evalue": "cannot assign to function call here. Maybe you meant '==' instead of '='? (2678343466.py, line 1)",
     "output_type": "error",
     "traceback": [
      "\u001b[0;36m  Cell \u001b[0;32mIn[16], line 1\u001b[0;36m\u001b[0m\n\u001b[0;31m    T(1)=0\u001b[0m\n\u001b[0m    ^\u001b[0m\n\u001b[0;31mSyntaxError\u001b[0m\u001b[0;31m:\u001b[0m cannot assign to function call here. Maybe you meant '==' instead of '='?\n"
     ]
    }
   ],
   "source": [
    "T(1)=0\n",
    "#tuple cannot be changeable"
   ]
  },
  {
   "cell_type": "code",
   "execution_count": null,
   "metadata": {},
   "outputs": [],
   "source": []
  }
 ],
 "metadata": {
  "kernelspec": {
   "display_name": "Python 3 (ipykernel)",
   "language": "python",
   "name": "python3"
  },
  "language_info": {
   "codemirror_mode": {
    "name": "ipython",
    "version": 3
   },
   "file_extension": ".py",
   "mimetype": "text/x-python",
   "name": "python",
   "nbconvert_exporter": "python",
   "pygments_lexer": "ipython3",
   "version": "3.10.8"
  }
 },
 "nbformat": 4,
 "nbformat_minor": 4
}
